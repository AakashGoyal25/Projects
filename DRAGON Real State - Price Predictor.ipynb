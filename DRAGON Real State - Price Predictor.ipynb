{
 "cells": [
  {
   "cell_type": "markdown",
   "id": "fd6d480c",
   "metadata": {},
   "source": [
    "# DRAGON Real State - Price Predictor"
   ]
  },
  {
   "cell_type": "markdown",
   "id": "d6eb1d95",
   "metadata": {},
   "source": [
    "#### Step1: Find the type of model to build: Supervised, Regression, Batch Learning: We already have data and we are training a model"
   ]
  },
  {
   "cell_type": "markdown",
   "id": "1d775e34",
   "metadata": {},
   "source": [
    "#### Step2: Selecting a Performance Measure-->  RMSE (Root Mean Squared Error)"
   ]
  },
  {
   "cell_type": "markdown",
   "id": "4815129a",
   "metadata": {},
   "source": [
    "#### Step3: Checking the Assumptions : We should need to understand the requirement clearly"
   ]
  },
  {
   "cell_type": "markdown",
   "id": "103ef667",
   "metadata": {},
   "source": [
    "#### Step4: Ready for Coding"
   ]
  },
  {
   "cell_type": "code",
   "execution_count": 1,
   "id": "3c0d1d97",
   "metadata": {},
   "outputs": [],
   "source": [
    "import sklearn\n",
    "import pandas as pd\n",
    "import numpy as np\n",
    "import matplotlib.pyplot as plt\n",
    "%matplotlib inline"
   ]
  },
  {
   "cell_type": "code",
   "execution_count": 2,
   "id": "ea85711e",
   "metadata": {},
   "outputs": [],
   "source": [
    "housing= pd.read_csv(\"D:\\Data Science\\Datasets ML\\dragon housing data\\housingdata.csv\")"
   ]
  },
  {
   "cell_type": "code",
   "execution_count": 3,
   "id": "2ce9857f",
   "metadata": {},
   "outputs": [
    {
     "data": {
      "text/html": [
       "<div>\n",
       "<style scoped>\n",
       "    .dataframe tbody tr th:only-of-type {\n",
       "        vertical-align: middle;\n",
       "    }\n",
       "\n",
       "    .dataframe tbody tr th {\n",
       "        vertical-align: top;\n",
       "    }\n",
       "\n",
       "    .dataframe thead th {\n",
       "        text-align: right;\n",
       "    }\n",
       "</style>\n",
       "<table border=\"1\" class=\"dataframe\">\n",
       "  <thead>\n",
       "    <tr style=\"text-align: right;\">\n",
       "      <th></th>\n",
       "      <th>CRIM</th>\n",
       "      <th>ZN</th>\n",
       "      <th>INDUS</th>\n",
       "      <th>CHAS</th>\n",
       "      <th>NOX</th>\n",
       "      <th>RM</th>\n",
       "      <th>AGE</th>\n",
       "      <th>DIS</th>\n",
       "      <th>RAD</th>\n",
       "      <th>TAX</th>\n",
       "      <th>PTRATIO</th>\n",
       "      <th>B</th>\n",
       "      <th>LSTAT</th>\n",
       "      <th>MEDV</th>\n",
       "    </tr>\n",
       "  </thead>\n",
       "  <tbody>\n",
       "    <tr>\n",
       "      <th>0</th>\n",
       "      <td>0.00632</td>\n",
       "      <td>18.0</td>\n",
       "      <td>2.31</td>\n",
       "      <td>0</td>\n",
       "      <td>0.538</td>\n",
       "      <td>6.575</td>\n",
       "      <td>65.2</td>\n",
       "      <td>4.0900</td>\n",
       "      <td>1</td>\n",
       "      <td>296</td>\n",
       "      <td>15.3</td>\n",
       "      <td>396.90</td>\n",
       "      <td>4.98</td>\n",
       "      <td>24.0</td>\n",
       "    </tr>\n",
       "    <tr>\n",
       "      <th>1</th>\n",
       "      <td>0.02731</td>\n",
       "      <td>0.0</td>\n",
       "      <td>7.07</td>\n",
       "      <td>0</td>\n",
       "      <td>0.469</td>\n",
       "      <td>6.421</td>\n",
       "      <td>78.9</td>\n",
       "      <td>4.9671</td>\n",
       "      <td>2</td>\n",
       "      <td>242</td>\n",
       "      <td>17.8</td>\n",
       "      <td>396.90</td>\n",
       "      <td>9.14</td>\n",
       "      <td>21.6</td>\n",
       "    </tr>\n",
       "    <tr>\n",
       "      <th>2</th>\n",
       "      <td>0.02729</td>\n",
       "      <td>0.0</td>\n",
       "      <td>7.07</td>\n",
       "      <td>0</td>\n",
       "      <td>0.469</td>\n",
       "      <td>7.185</td>\n",
       "      <td>61.1</td>\n",
       "      <td>4.9671</td>\n",
       "      <td>2</td>\n",
       "      <td>242</td>\n",
       "      <td>17.8</td>\n",
       "      <td>392.83</td>\n",
       "      <td>4.03</td>\n",
       "      <td>34.7</td>\n",
       "    </tr>\n",
       "    <tr>\n",
       "      <th>3</th>\n",
       "      <td>0.03237</td>\n",
       "      <td>0.0</td>\n",
       "      <td>2.18</td>\n",
       "      <td>0</td>\n",
       "      <td>0.458</td>\n",
       "      <td>6.998</td>\n",
       "      <td>45.8</td>\n",
       "      <td>6.0622</td>\n",
       "      <td>3</td>\n",
       "      <td>222</td>\n",
       "      <td>18.7</td>\n",
       "      <td>394.63</td>\n",
       "      <td>2.94</td>\n",
       "      <td>33.4</td>\n",
       "    </tr>\n",
       "    <tr>\n",
       "      <th>4</th>\n",
       "      <td>0.06905</td>\n",
       "      <td>0.0</td>\n",
       "      <td>2.18</td>\n",
       "      <td>0</td>\n",
       "      <td>0.458</td>\n",
       "      <td>7.147</td>\n",
       "      <td>54.2</td>\n",
       "      <td>6.0622</td>\n",
       "      <td>3</td>\n",
       "      <td>222</td>\n",
       "      <td>18.7</td>\n",
       "      <td>396.90</td>\n",
       "      <td>5.33</td>\n",
       "      <td>36.2</td>\n",
       "    </tr>\n",
       "  </tbody>\n",
       "</table>\n",
       "</div>"
      ],
      "text/plain": [
       "      CRIM    ZN  INDUS  CHAS    NOX     RM   AGE     DIS  RAD  TAX  PTRATIO  \\\n",
       "0  0.00632  18.0   2.31     0  0.538  6.575  65.2  4.0900    1  296     15.3   \n",
       "1  0.02731   0.0   7.07     0  0.469  6.421  78.9  4.9671    2  242     17.8   \n",
       "2  0.02729   0.0   7.07     0  0.469  7.185  61.1  4.9671    2  242     17.8   \n",
       "3  0.03237   0.0   2.18     0  0.458  6.998  45.8  6.0622    3  222     18.7   \n",
       "4  0.06905   0.0   2.18     0  0.458  7.147  54.2  6.0622    3  222     18.7   \n",
       "\n",
       "        B  LSTAT  MEDV  \n",
       "0  396.90   4.98  24.0  \n",
       "1  396.90   9.14  21.6  \n",
       "2  392.83   4.03  34.7  \n",
       "3  394.63   2.94  33.4  \n",
       "4  396.90   5.33  36.2  "
      ]
     },
     "execution_count": 3,
     "metadata": {},
     "output_type": "execute_result"
    }
   ],
   "source": [
    "housing.head()"
   ]
  },
  {
   "cell_type": "code",
   "execution_count": 4,
   "id": "d8964bba",
   "metadata": {},
   "outputs": [
    {
     "name": "stdout",
     "output_type": "stream",
     "text": [
      "<class 'pandas.core.frame.DataFrame'>\n",
      "RangeIndex: 506 entries, 0 to 505\n",
      "Data columns (total 14 columns):\n",
      " #   Column   Non-Null Count  Dtype  \n",
      "---  ------   --------------  -----  \n",
      " 0   CRIM     506 non-null    float64\n",
      " 1   ZN       506 non-null    float64\n",
      " 2   INDUS    506 non-null    float64\n",
      " 3   CHAS     506 non-null    int64  \n",
      " 4   NOX      506 non-null    float64\n",
      " 5   RM       501 non-null    float64\n",
      " 6   AGE      506 non-null    float64\n",
      " 7   DIS      506 non-null    float64\n",
      " 8   RAD      506 non-null    int64  \n",
      " 9   TAX      506 non-null    int64  \n",
      " 10  PTRATIO  506 non-null    float64\n",
      " 11  B        506 non-null    float64\n",
      " 12  LSTAT    506 non-null    float64\n",
      " 13  MEDV     506 non-null    float64\n",
      "dtypes: float64(11), int64(3)\n",
      "memory usage: 55.5 KB\n"
     ]
    }
   ],
   "source": [
    "housing.info()"
   ]
  },
  {
   "cell_type": "code",
   "execution_count": 5,
   "id": "459d7448",
   "metadata": {},
   "outputs": [],
   "source": [
    "#We didn't find any missing values in this"
   ]
  },
  {
   "cell_type": "code",
   "execution_count": 6,
   "id": "5ecc462b",
   "metadata": {},
   "outputs": [
    {
     "data": {
      "text/plain": [
       "0    471\n",
       "1     35\n",
       "Name: CHAS, dtype: int64"
      ]
     },
     "execution_count": 6,
     "metadata": {},
     "output_type": "execute_result"
    }
   ],
   "source": [
    "# CHAS is a categorical variables. So, we take a quick insight of data.\n",
    "housing[\"CHAS\"].value_counts()"
   ]
  },
  {
   "cell_type": "code",
   "execution_count": 7,
   "id": "adcd1a7f",
   "metadata": {
    "scrolled": true
   },
   "outputs": [
    {
     "data": {
      "text/html": [
       "<div>\n",
       "<style scoped>\n",
       "    .dataframe tbody tr th:only-of-type {\n",
       "        vertical-align: middle;\n",
       "    }\n",
       "\n",
       "    .dataframe tbody tr th {\n",
       "        vertical-align: top;\n",
       "    }\n",
       "\n",
       "    .dataframe thead th {\n",
       "        text-align: right;\n",
       "    }\n",
       "</style>\n",
       "<table border=\"1\" class=\"dataframe\">\n",
       "  <thead>\n",
       "    <tr style=\"text-align: right;\">\n",
       "      <th></th>\n",
       "      <th>CRIM</th>\n",
       "      <th>ZN</th>\n",
       "      <th>INDUS</th>\n",
       "      <th>CHAS</th>\n",
       "      <th>NOX</th>\n",
       "      <th>RM</th>\n",
       "      <th>AGE</th>\n",
       "      <th>DIS</th>\n",
       "      <th>RAD</th>\n",
       "      <th>TAX</th>\n",
       "      <th>PTRATIO</th>\n",
       "      <th>B</th>\n",
       "      <th>LSTAT</th>\n",
       "      <th>MEDV</th>\n",
       "    </tr>\n",
       "  </thead>\n",
       "  <tbody>\n",
       "    <tr>\n",
       "      <th>count</th>\n",
       "      <td>506.000000</td>\n",
       "      <td>506.000000</td>\n",
       "      <td>506.000000</td>\n",
       "      <td>506.000000</td>\n",
       "      <td>506.000000</td>\n",
       "      <td>501.000000</td>\n",
       "      <td>506.000000</td>\n",
       "      <td>506.000000</td>\n",
       "      <td>506.000000</td>\n",
       "      <td>506.000000</td>\n",
       "      <td>506.000000</td>\n",
       "      <td>506.000000</td>\n",
       "      <td>506.000000</td>\n",
       "      <td>506.000000</td>\n",
       "    </tr>\n",
       "    <tr>\n",
       "      <th>mean</th>\n",
       "      <td>3.613524</td>\n",
       "      <td>11.363636</td>\n",
       "      <td>11.136779</td>\n",
       "      <td>0.069170</td>\n",
       "      <td>0.554695</td>\n",
       "      <td>6.288068</td>\n",
       "      <td>68.574901</td>\n",
       "      <td>3.795043</td>\n",
       "      <td>9.549407</td>\n",
       "      <td>408.237154</td>\n",
       "      <td>18.455534</td>\n",
       "      <td>356.674032</td>\n",
       "      <td>12.653063</td>\n",
       "      <td>22.532806</td>\n",
       "    </tr>\n",
       "    <tr>\n",
       "      <th>std</th>\n",
       "      <td>8.601545</td>\n",
       "      <td>23.322453</td>\n",
       "      <td>6.860353</td>\n",
       "      <td>0.253994</td>\n",
       "      <td>0.115878</td>\n",
       "      <td>0.705220</td>\n",
       "      <td>28.148861</td>\n",
       "      <td>2.105710</td>\n",
       "      <td>8.707259</td>\n",
       "      <td>168.537116</td>\n",
       "      <td>2.164946</td>\n",
       "      <td>91.294864</td>\n",
       "      <td>7.141062</td>\n",
       "      <td>9.197104</td>\n",
       "    </tr>\n",
       "    <tr>\n",
       "      <th>min</th>\n",
       "      <td>0.006320</td>\n",
       "      <td>0.000000</td>\n",
       "      <td>0.460000</td>\n",
       "      <td>0.000000</td>\n",
       "      <td>0.385000</td>\n",
       "      <td>3.561000</td>\n",
       "      <td>2.900000</td>\n",
       "      <td>1.129600</td>\n",
       "      <td>1.000000</td>\n",
       "      <td>187.000000</td>\n",
       "      <td>12.600000</td>\n",
       "      <td>0.320000</td>\n",
       "      <td>1.730000</td>\n",
       "      <td>5.000000</td>\n",
       "    </tr>\n",
       "    <tr>\n",
       "      <th>25%</th>\n",
       "      <td>0.082045</td>\n",
       "      <td>0.000000</td>\n",
       "      <td>5.190000</td>\n",
       "      <td>0.000000</td>\n",
       "      <td>0.449000</td>\n",
       "      <td>5.885000</td>\n",
       "      <td>45.025000</td>\n",
       "      <td>2.100175</td>\n",
       "      <td>4.000000</td>\n",
       "      <td>279.000000</td>\n",
       "      <td>17.400000</td>\n",
       "      <td>375.377500</td>\n",
       "      <td>6.950000</td>\n",
       "      <td>17.025000</td>\n",
       "    </tr>\n",
       "    <tr>\n",
       "      <th>50%</th>\n",
       "      <td>0.256510</td>\n",
       "      <td>0.000000</td>\n",
       "      <td>9.690000</td>\n",
       "      <td>0.000000</td>\n",
       "      <td>0.538000</td>\n",
       "      <td>6.211000</td>\n",
       "      <td>77.500000</td>\n",
       "      <td>3.207450</td>\n",
       "      <td>5.000000</td>\n",
       "      <td>330.000000</td>\n",
       "      <td>19.050000</td>\n",
       "      <td>391.440000</td>\n",
       "      <td>11.360000</td>\n",
       "      <td>21.200000</td>\n",
       "    </tr>\n",
       "    <tr>\n",
       "      <th>75%</th>\n",
       "      <td>3.677083</td>\n",
       "      <td>12.500000</td>\n",
       "      <td>18.100000</td>\n",
       "      <td>0.000000</td>\n",
       "      <td>0.624000</td>\n",
       "      <td>6.629000</td>\n",
       "      <td>94.075000</td>\n",
       "      <td>5.188425</td>\n",
       "      <td>24.000000</td>\n",
       "      <td>666.000000</td>\n",
       "      <td>20.200000</td>\n",
       "      <td>396.225000</td>\n",
       "      <td>16.955000</td>\n",
       "      <td>25.000000</td>\n",
       "    </tr>\n",
       "    <tr>\n",
       "      <th>max</th>\n",
       "      <td>88.976200</td>\n",
       "      <td>100.000000</td>\n",
       "      <td>27.740000</td>\n",
       "      <td>1.000000</td>\n",
       "      <td>0.871000</td>\n",
       "      <td>8.780000</td>\n",
       "      <td>100.000000</td>\n",
       "      <td>12.126500</td>\n",
       "      <td>24.000000</td>\n",
       "      <td>711.000000</td>\n",
       "      <td>22.000000</td>\n",
       "      <td>396.900000</td>\n",
       "      <td>37.970000</td>\n",
       "      <td>50.000000</td>\n",
       "    </tr>\n",
       "  </tbody>\n",
       "</table>\n",
       "</div>"
      ],
      "text/plain": [
       "             CRIM          ZN       INDUS        CHAS         NOX          RM  \\\n",
       "count  506.000000  506.000000  506.000000  506.000000  506.000000  501.000000   \n",
       "mean     3.613524   11.363636   11.136779    0.069170    0.554695    6.288068   \n",
       "std      8.601545   23.322453    6.860353    0.253994    0.115878    0.705220   \n",
       "min      0.006320    0.000000    0.460000    0.000000    0.385000    3.561000   \n",
       "25%      0.082045    0.000000    5.190000    0.000000    0.449000    5.885000   \n",
       "50%      0.256510    0.000000    9.690000    0.000000    0.538000    6.211000   \n",
       "75%      3.677083   12.500000   18.100000    0.000000    0.624000    6.629000   \n",
       "max     88.976200  100.000000   27.740000    1.000000    0.871000    8.780000   \n",
       "\n",
       "              AGE         DIS         RAD         TAX     PTRATIO           B  \\\n",
       "count  506.000000  506.000000  506.000000  506.000000  506.000000  506.000000   \n",
       "mean    68.574901    3.795043    9.549407  408.237154   18.455534  356.674032   \n",
       "std     28.148861    2.105710    8.707259  168.537116    2.164946   91.294864   \n",
       "min      2.900000    1.129600    1.000000  187.000000   12.600000    0.320000   \n",
       "25%     45.025000    2.100175    4.000000  279.000000   17.400000  375.377500   \n",
       "50%     77.500000    3.207450    5.000000  330.000000   19.050000  391.440000   \n",
       "75%     94.075000    5.188425   24.000000  666.000000   20.200000  396.225000   \n",
       "max    100.000000   12.126500   24.000000  711.000000   22.000000  396.900000   \n",
       "\n",
       "            LSTAT        MEDV  \n",
       "count  506.000000  506.000000  \n",
       "mean    12.653063   22.532806  \n",
       "std      7.141062    9.197104  \n",
       "min      1.730000    5.000000  \n",
       "25%      6.950000   17.025000  \n",
       "50%     11.360000   21.200000  \n",
       "75%     16.955000   25.000000  \n",
       "max     37.970000   50.000000  "
      ]
     },
     "execution_count": 7,
     "metadata": {},
     "output_type": "execute_result"
    }
   ],
   "source": [
    "housing.describe()"
   ]
  },
  {
   "cell_type": "markdown",
   "id": "3f906a57",
   "metadata": {},
   "source": [
    "#### Count: Ignores null values and from this we are able to understand whether there are missing values or not.\n",
    "    "
   ]
  },
  {
   "cell_type": "code",
   "execution_count": 8,
   "id": "5bc1f2d3",
   "metadata": {},
   "outputs": [
    {
     "data": {
      "image/png": "[encoded data removed]",
      "text/plain": [
       "<Figure size 1440x1080 with 16 Axes>"
      ]
     },
     "metadata": {
      "needs_background": "light"
     },
     "output_type": "display_data"
    }
   ],
   "source": [
    "housing.hist(bins=50, figsize=(20,15))\n",
    "plt.show()\n",
    "\n",
    "#Histogram : Helps to analyse data at a glance\n",
    "# Age: more than 60 houses have age 100.\n",
    "# CHAS : 1: Many observations as compared to 0\n",
    "# MEDV : "
   ]
  },
  {
   "cell_type": "markdown",
   "id": "4a45a265",
   "metadata": {},
   "source": [
    "# Train-Test Split"
   ]
  },
  {
   "cell_type": "code",
   "execution_count": 9,
   "id": "f764090c",
   "metadata": {},
   "outputs": [],
   "source": [
    "\n",
    "def split_train_test(data, test_ratio):\n",
    "    np.random.seed(42)\n",
    "    shuffled= np.random.permutation(len(data))\n",
    "    #Np.random.permutation fetch random values and we don't want to see all the data points. And we want to put test test aside. \n",
    "    # Therefore we set seed(42). So we are able to segregate Test and Train set.(42 is not a rule we can use any number)\n",
    "    print(shuffled)\n",
    "    test_set_size= int(len(data)*test_ratio)\n",
    "    test_indices= shuffled[:test_set_size]\n",
    "    train_indices= shuffled[test_set_size:]\n",
    "    return data.iloc[train_indices], data.iloc[test_indices]"
   ]
  },
  {
   "cell_type": "code",
   "execution_count": 10,
   "id": "282e1659",
   "metadata": {},
   "outputs": [
    {
     "name": "stdout",
     "output_type": "stream",
     "text": [
      "[173 274 491  72 452  76 316 140 471 500 218   9 414  78 323 473 124 388\n",
      " 195 448 271 278  30 501 421 474  79 454 210 497 172 320 375 362 467 153\n",
      "   2 336 208  73 496 307 204  68  90 390  33  70 470   0  11 281  22 101\n",
      " 268 485 442 290  84 245  63  55 229  18 351 209 395  82  39 456  46 481\n",
      " 444 355  77 398 104 203 381 489  69 408 255 392 312 234 460 324  93 137\n",
      " 176 417 131 346 365 132 371 412 436 411  86  75 477  15 332 423  19 325\n",
      " 335  56 437 409 334 181 227 434 180  25 493 238 244 250 418 117  42 322\n",
      " 347 182 155 280 126 329  31 113 148 432 338  57 194  24  17 298  66 211\n",
      " 404  94 154 441  23 225 433 447   5 116  45  16 468 360   3 405 185  60\n",
      " 110 321 265  29 262 478  26   7 492 108  37 157 472 118 114 175 192 272\n",
      " 144 373 383 356 277 220 450 141 369  67 361 168 499 394 400 193 249 109\n",
      " 420 145  92 152 222 304  83 248 165 163 199 231  74 311 455 253 119 284\n",
      " 302 483 357 403 228 261 237 386 476  36 196 139 368 247 287 378  59 111\n",
      "  89 266   6 364 503 341 158 150 177 397 184 318  10 384 103  81  38 317\n",
      " 167 475 299 296 198 377 146 396 147 428 289 123 490  96 143 239 275  97\n",
      " 353 122 183 202 246 484 301 354 410 399 286 125 305 223 422 219 129 424\n",
      " 291 331 380 480 358 297 294 370 438 112 179 310 342 333 487 457 233 314\n",
      " 164 136 197 258 232 115 120 352 224 406 340 127 285 415 107 374 449 133\n",
      " 367  44 495  65 283  85 242 186 425 159  12  35  28 170 142 402 349 221\n",
      "  95  51 240 376 382 178  41 440 391 206 282 254 416   4 256 453 100 226\n",
      " 431 213 426 171  98 292 215  61  47  32 267 327 200 451  27 393 230 260\n",
      " 288 162 429 138  62 135 128 482   8 326 469  64 300  14 156  40 379 465\n",
      " 407 216 279 439 504 337 236 207 212 295 462 251 494 464 303 350 269 201\n",
      " 161  43 217 401 190 309 259 105  53 389   1 446 488  49 419  80 205  34\n",
      " 430 263 427 366  91 339 479  52 345 264 241  13 315  88 387 273 166 328\n",
      " 498 134 306 486 319 243  54 363  50 461 174 445 189 502 463 187 169  58\n",
      "  48 344 235 252  21 313 459 160 276 443 191 385 293 413 343 257 308 149\n",
      " 130 151 359  99 372  87 458 330 214 466 121 505  20 188  71 106 270 348\n",
      " 435 102]\n",
      "Rows in train set: 405,  Rows in test set: 101\n"
     ]
    }
   ],
   "source": [
    "train_set,test_set= split_train_test(housing,0.2)\n",
    "print(\"Rows in train set: {0},  Rows in test set: {1}\".format(len(train_set), len(test_set)) )"
   ]
  },
  {
   "cell_type": "code",
   "execution_count": 11,
   "id": "3f5b6e54",
   "metadata": {},
   "outputs": [
    {
     "name": "stdout",
     "output_type": "stream",
     "text": [
      "Rows in train set: 404\n",
      "Rows in test set: 102\n"
     ]
    }
   ],
   "source": [
    "#We do train test split to keep checkon overfitting. \n",
    "from sklearn.model_selection import train_test_split\n",
    "train_set,test_set= train_test_split(housing, test_size=0.2, random_state=42)\n",
    "print(f\"Rows in train set: {len(train_set)}\\nRows in test set: {len(test_set)}\")"
   ]
  },
  {
   "cell_type": "code",
   "execution_count": 12,
   "id": "7ef29b8d",
   "metadata": {},
   "outputs": [
    {
     "data": {
      "text/plain": [
       "'Now there is a problem : We have seen that CHAS value counts 0: 471 and 1: 35 and in this if all the CHAS: ones fall in \\nin test set then our model may predict ones wrongly as it never come across with such CHAS: 1 values. So, in order to avoid\\nsuch problem we used Startified Sampling. As Stratified Sampling represents the whole population '"
      ]
     },
     "execution_count": 12,
     "metadata": {},
     "output_type": "execute_result"
    }
   ],
   "source": [
    "'''Now there is a problem : We have seen that CHAS value counts 0: 471 and 1: 35 and in this if all the CHAS: ones fall in \n",
    "in test set then our model may predict ones wrongly as it never come across with such CHAS: 1 values. So, in order to avoid\n",
    "such problem we used Startified Sampling. As Stratified Sampling represents the whole population '''"
   ]
  },
  {
   "cell_type": "code",
   "execution_count": 13,
   "id": "4717e9aa",
   "metadata": {},
   "outputs": [],
   "source": [
    "from sklearn.model_selection import StratifiedShuffleSplit\n",
    "split= StratifiedShuffleSplit(n_splits=1, test_size=0.2, random_state=42)\n",
    "for train_index, test_index in split.split(housing, housing['CHAS']):\n",
    "    strat_train_set= housing.loc[train_index]\n",
    "    strat_test_set= housing.loc[test_index]"
   ]
  },
  {
   "cell_type": "code",
   "execution_count": 14,
   "id": "dc3fda8a",
   "metadata": {},
   "outputs": [
    {
     "data": {
      "text/plain": [
       "0    376\n",
       "1     28\n",
       "Name: CHAS, dtype: int64"
      ]
     },
     "execution_count": 14,
     "metadata": {},
     "output_type": "execute_result"
    }
   ],
   "source": [
    "strat_train_set['CHAS'].value_counts()"
   ]
  },
  {
   "cell_type": "code",
   "execution_count": 15,
   "id": "c18a3682",
   "metadata": {},
   "outputs": [
    {
     "data": {
      "text/plain": [
       "0    95\n",
       "1     7\n",
       "Name: CHAS, dtype: int64"
      ]
     },
     "execution_count": 15,
     "metadata": {},
     "output_type": "execute_result"
    }
   ],
   "source": [
    "strat_test_set['CHAS'].value_counts()"
   ]
  },
  {
   "cell_type": "code",
   "execution_count": 16,
   "id": "8ee2719f",
   "metadata": {},
   "outputs": [],
   "source": [
    "housing= strat_train_set.copy()\n",
    "# We need to do this as wedon't want to see test data."
   ]
  },
  {
   "cell_type": "markdown",
   "id": "21ab53f3",
   "metadata": {},
   "source": [
    "# Looking for Correlations"
   ]
  },
  {
   "cell_type": "code",
   "execution_count": 17,
   "id": "ace53910",
   "metadata": {},
   "outputs": [],
   "source": [
    "corr_matrix=housing.corr()"
   ]
  },
  {
   "cell_type": "code",
   "execution_count": 18,
   "id": "e692cb49",
   "metadata": {},
   "outputs": [
    {
     "data": {
      "text/html": [
       "<div>\n",
       "<style scoped>\n",
       "    .dataframe tbody tr th:only-of-type {\n",
       "        vertical-align: middle;\n",
       "    }\n",
       "\n",
       "    .dataframe tbody tr th {\n",
       "        vertical-align: top;\n",
       "    }\n",
       "\n",
       "    .dataframe thead th {\n",
       "        text-align: right;\n",
       "    }\n",
       "</style>\n",
       "<table border=\"1\" class=\"dataframe\">\n",
       "  <thead>\n",
       "    <tr style=\"text-align: right;\">\n",
       "      <th></th>\n",
       "      <th>CRIM</th>\n",
       "      <th>ZN</th>\n",
       "      <th>INDUS</th>\n",
       "      <th>CHAS</th>\n",
       "      <th>NOX</th>\n",
       "      <th>RM</th>\n",
       "      <th>AGE</th>\n",
       "      <th>DIS</th>\n",
       "      <th>RAD</th>\n",
       "      <th>TAX</th>\n",
       "      <th>PTRATIO</th>\n",
       "      <th>B</th>\n",
       "      <th>LSTAT</th>\n",
       "      <th>MEDV</th>\n",
       "    </tr>\n",
       "  </thead>\n",
       "  <tbody>\n",
       "    <tr>\n",
       "      <th>CRIM</th>\n",
       "      <td>1.000000</td>\n",
       "      <td>-0.212927</td>\n",
       "      <td>0.416640</td>\n",
       "      <td>-0.061482</td>\n",
       "      <td>0.430879</td>\n",
       "      <td>-0.259668</td>\n",
       "      <td>0.361890</td>\n",
       "      <td>-0.386900</td>\n",
       "      <td>0.648221</td>\n",
       "      <td>0.603934</td>\n",
       "      <td>0.305603</td>\n",
       "      <td>-0.486869</td>\n",
       "      <td>0.471442</td>\n",
       "      <td>-0.393715</td>\n",
       "    </tr>\n",
       "    <tr>\n",
       "      <th>ZN</th>\n",
       "      <td>-0.212927</td>\n",
       "      <td>1.000000</td>\n",
       "      <td>-0.542161</td>\n",
       "      <td>-0.023536</td>\n",
       "      <td>-0.509327</td>\n",
       "      <td>0.292417</td>\n",
       "      <td>-0.565680</td>\n",
       "      <td>0.666939</td>\n",
       "      <td>-0.306480</td>\n",
       "      <td>-0.322803</td>\n",
       "      <td>-0.390570</td>\n",
       "      <td>0.188575</td>\n",
       "      <td>-0.420097</td>\n",
       "      <td>0.339741</td>\n",
       "    </tr>\n",
       "    <tr>\n",
       "      <th>INDUS</th>\n",
       "      <td>0.416640</td>\n",
       "      <td>-0.542161</td>\n",
       "      <td>1.000000</td>\n",
       "      <td>0.043686</td>\n",
       "      <td>0.759051</td>\n",
       "      <td>-0.385463</td>\n",
       "      <td>0.644114</td>\n",
       "      <td>-0.708612</td>\n",
       "      <td>0.580908</td>\n",
       "      <td>0.716288</td>\n",
       "      <td>0.384465</td>\n",
       "      <td>-0.368685</td>\n",
       "      <td>0.611068</td>\n",
       "      <td>-0.473516</td>\n",
       "    </tr>\n",
       "    <tr>\n",
       "      <th>CHAS</th>\n",
       "      <td>-0.061482</td>\n",
       "      <td>-0.023536</td>\n",
       "      <td>0.043686</td>\n",
       "      <td>1.000000</td>\n",
       "      <td>0.077490</td>\n",
       "      <td>0.098933</td>\n",
       "      <td>0.058388</td>\n",
       "      <td>-0.088081</td>\n",
       "      <td>-0.023005</td>\n",
       "      <td>-0.048802</td>\n",
       "      <td>-0.132682</td>\n",
       "      <td>0.048275</td>\n",
       "      <td>-0.077592</td>\n",
       "      <td>0.205066</td>\n",
       "    </tr>\n",
       "    <tr>\n",
       "      <th>NOX</th>\n",
       "      <td>0.430879</td>\n",
       "      <td>-0.509327</td>\n",
       "      <td>0.759051</td>\n",
       "      <td>0.077490</td>\n",
       "      <td>1.000000</td>\n",
       "      <td>-0.301607</td>\n",
       "      <td>0.727358</td>\n",
       "      <td>-0.763623</td>\n",
       "      <td>0.596012</td>\n",
       "      <td>0.659049</td>\n",
       "      <td>0.164977</td>\n",
       "      <td>-0.408434</td>\n",
       "      <td>0.602386</td>\n",
       "      <td>-0.422873</td>\n",
       "    </tr>\n",
       "    <tr>\n",
       "      <th>RM</th>\n",
       "      <td>-0.259668</td>\n",
       "      <td>0.292417</td>\n",
       "      <td>-0.385463</td>\n",
       "      <td>0.098933</td>\n",
       "      <td>-0.301607</td>\n",
       "      <td>1.000000</td>\n",
       "      <td>-0.246195</td>\n",
       "      <td>0.209166</td>\n",
       "      <td>-0.202730</td>\n",
       "      <td>-0.285436</td>\n",
       "      <td>-0.330173</td>\n",
       "      <td>0.124528</td>\n",
       "      <td>-0.604168</td>\n",
       "      <td>0.680218</td>\n",
       "    </tr>\n",
       "    <tr>\n",
       "      <th>AGE</th>\n",
       "      <td>0.361890</td>\n",
       "      <td>-0.565680</td>\n",
       "      <td>0.644114</td>\n",
       "      <td>0.058388</td>\n",
       "      <td>0.727358</td>\n",
       "      <td>-0.246195</td>\n",
       "      <td>1.000000</td>\n",
       "      <td>-0.734827</td>\n",
       "      <td>0.449489</td>\n",
       "      <td>0.501491</td>\n",
       "      <td>0.259633</td>\n",
       "      <td>-0.287900</td>\n",
       "      <td>0.599211</td>\n",
       "      <td>-0.364596</td>\n",
       "    </tr>\n",
       "    <tr>\n",
       "      <th>DIS</th>\n",
       "      <td>-0.386900</td>\n",
       "      <td>0.666939</td>\n",
       "      <td>-0.708612</td>\n",
       "      <td>-0.088081</td>\n",
       "      <td>-0.763623</td>\n",
       "      <td>0.209166</td>\n",
       "      <td>-0.734827</td>\n",
       "      <td>1.000000</td>\n",
       "      <td>-0.481556</td>\n",
       "      <td>-0.530840</td>\n",
       "      <td>-0.215173</td>\n",
       "      <td>0.309222</td>\n",
       "      <td>-0.501408</td>\n",
       "      <td>0.240451</td>\n",
       "    </tr>\n",
       "    <tr>\n",
       "      <th>RAD</th>\n",
       "      <td>0.648221</td>\n",
       "      <td>-0.306480</td>\n",
       "      <td>0.580908</td>\n",
       "      <td>-0.023005</td>\n",
       "      <td>0.596012</td>\n",
       "      <td>-0.202730</td>\n",
       "      <td>0.449489</td>\n",
       "      <td>-0.481556</td>\n",
       "      <td>1.000000</td>\n",
       "      <td>0.910932</td>\n",
       "      <td>0.471912</td>\n",
       "      <td>-0.490951</td>\n",
       "      <td>0.479857</td>\n",
       "      <td>-0.374693</td>\n",
       "    </tr>\n",
       "    <tr>\n",
       "      <th>TAX</th>\n",
       "      <td>0.603934</td>\n",
       "      <td>-0.322803</td>\n",
       "      <td>0.716288</td>\n",
       "      <td>-0.048802</td>\n",
       "      <td>0.659049</td>\n",
       "      <td>-0.285436</td>\n",
       "      <td>0.501491</td>\n",
       "      <td>-0.530840</td>\n",
       "      <td>0.910932</td>\n",
       "      <td>1.000000</td>\n",
       "      <td>0.473026</td>\n",
       "      <td>-0.475293</td>\n",
       "      <td>0.534228</td>\n",
       "      <td>-0.456657</td>\n",
       "    </tr>\n",
       "    <tr>\n",
       "      <th>PTRATIO</th>\n",
       "      <td>0.305603</td>\n",
       "      <td>-0.390570</td>\n",
       "      <td>0.384465</td>\n",
       "      <td>-0.132682</td>\n",
       "      <td>0.164977</td>\n",
       "      <td>-0.330173</td>\n",
       "      <td>0.259633</td>\n",
       "      <td>-0.215173</td>\n",
       "      <td>0.471912</td>\n",
       "      <td>0.473026</td>\n",
       "      <td>1.000000</td>\n",
       "      <td>-0.193293</td>\n",
       "      <td>0.370759</td>\n",
       "      <td>-0.493534</td>\n",
       "    </tr>\n",
       "    <tr>\n",
       "      <th>B</th>\n",
       "      <td>-0.486869</td>\n",
       "      <td>0.188575</td>\n",
       "      <td>-0.368685</td>\n",
       "      <td>0.048275</td>\n",
       "      <td>-0.408434</td>\n",
       "      <td>0.124528</td>\n",
       "      <td>-0.287900</td>\n",
       "      <td>0.309222</td>\n",
       "      <td>-0.490951</td>\n",
       "      <td>-0.475293</td>\n",
       "      <td>-0.193293</td>\n",
       "      <td>1.000000</td>\n",
       "      <td>-0.405799</td>\n",
       "      <td>0.361761</td>\n",
       "    </tr>\n",
       "    <tr>\n",
       "      <th>LSTAT</th>\n",
       "      <td>0.471442</td>\n",
       "      <td>-0.420097</td>\n",
       "      <td>0.611068</td>\n",
       "      <td>-0.077592</td>\n",
       "      <td>0.602386</td>\n",
       "      <td>-0.604168</td>\n",
       "      <td>0.599211</td>\n",
       "      <td>-0.501408</td>\n",
       "      <td>0.479857</td>\n",
       "      <td>0.534228</td>\n",
       "      <td>0.370759</td>\n",
       "      <td>-0.405799</td>\n",
       "      <td>1.000000</td>\n",
       "      <td>-0.740494</td>\n",
       "    </tr>\n",
       "    <tr>\n",
       "      <th>MEDV</th>\n",
       "      <td>-0.393715</td>\n",
       "      <td>0.339741</td>\n",
       "      <td>-0.473516</td>\n",
       "      <td>0.205066</td>\n",
       "      <td>-0.422873</td>\n",
       "      <td>0.680218</td>\n",
       "      <td>-0.364596</td>\n",
       "      <td>0.240451</td>\n",
       "      <td>-0.374693</td>\n",
       "      <td>-0.456657</td>\n",
       "      <td>-0.493534</td>\n",
       "      <td>0.361761</td>\n",
       "      <td>-0.740494</td>\n",
       "      <td>1.000000</td>\n",
       "    </tr>\n",
       "  </tbody>\n",
       "</table>\n",
       "</div>"
      ],
      "text/plain": [
       "             CRIM        ZN     INDUS      CHAS       NOX        RM       AGE  \\\n",
       "CRIM     1.000000 -0.212927  0.416640 -0.061482  0.430879 -0.259668  0.361890   \n",
       "ZN      -0.212927  1.000000 -0.542161 -0.023536 -0.509327  0.292417 -0.565680   \n",
       "INDUS    0.416640 -0.542161  1.000000  0.043686  0.759051 -0.385463  0.644114   \n",
       "CHAS    -0.061482 -0.023536  0.043686  1.000000  0.077490  0.098933  0.058388   \n",
       "NOX      0.430879 -0.509327  0.759051  0.077490  1.000000 -0.301607  0.727358   \n",
       "RM      -0.259668  0.292417 -0.385463  0.098933 -0.301607  1.000000 -0.246195   \n",
       "AGE      0.361890 -0.565680  0.644114  0.058388  0.727358 -0.246195  1.000000   \n",
       "DIS     -0.386900  0.666939 -0.708612 -0.088081 -0.763623  0.209166 -0.734827   \n",
       "RAD      0.648221 -0.306480  0.580908 -0.023005  0.596012 -0.202730  0.449489   \n",
       "TAX      0.603934 -0.322803  0.716288 -0.048802  0.659049 -0.285436  0.501491   \n",
       "PTRATIO  0.305603 -0.390570  0.384465 -0.132682  0.164977 -0.330173  0.259633   \n",
       "B       -0.486869  0.188575 -0.368685  0.048275 -0.408434  0.124528 -0.287900   \n",
       "LSTAT    0.471442 -0.420097  0.611068 -0.077592  0.602386 -0.604168  0.599211   \n",
       "MEDV    -0.393715  0.339741 -0.473516  0.205066 -0.422873  0.680218 -0.364596   \n",
       "\n",
       "              DIS       RAD       TAX   PTRATIO         B     LSTAT      MEDV  \n",
       "CRIM    -0.386900  0.648221  0.603934  0.305603 -0.486869  0.471442 -0.393715  \n",
       "ZN       0.666939 -0.306480 -0.322803 -0.390570  0.188575 -0.420097  0.339741  \n",
       "INDUS   -0.708612  0.580908  0.716288  0.384465 -0.368685  0.611068 -0.473516  \n",
       "CHAS    -0.088081 -0.023005 -0.048802 -0.132682  0.048275 -0.077592  0.205066  \n",
       "NOX     -0.763623  0.596012  0.659049  0.164977 -0.408434  0.602386 -0.422873  \n",
       "RM       0.209166 -0.202730 -0.285436 -0.330173  0.124528 -0.604168  0.680218  \n",
       "AGE     -0.734827  0.449489  0.501491  0.259633 -0.287900  0.599211 -0.364596  \n",
       "DIS      1.000000 -0.481556 -0.530840 -0.215173  0.309222 -0.501408  0.240451  \n",
       "RAD     -0.481556  1.000000  0.910932  0.471912 -0.490951  0.479857 -0.374693  \n",
       "TAX     -0.530840  0.910932  1.000000  0.473026 -0.475293  0.534228 -0.456657  \n",
       "PTRATIO -0.215173  0.471912  0.473026  1.000000 -0.193293  0.370759 -0.493534  \n",
       "B        0.309222 -0.490951 -0.475293 -0.193293  1.000000 -0.405799  0.361761  \n",
       "LSTAT   -0.501408  0.479857  0.534228  0.370759 -0.405799  1.000000 -0.740494  \n",
       "MEDV     0.240451 -0.374693 -0.456657 -0.493534  0.361761 -0.740494  1.000000  "
      ]
     },
     "execution_count": 18,
     "metadata": {},
     "output_type": "execute_result"
    }
   ],
   "source": [
    "corr_matrix"
   ]
  },
  {
   "cell_type": "code",
   "execution_count": 19,
   "id": "12d78121",
   "metadata": {},
   "outputs": [
    {
     "data": {
      "text/plain": [
       "MEDV       1.000000\n",
       "RM         0.680218\n",
       "B          0.361761\n",
       "ZN         0.339741\n",
       "DIS        0.240451\n",
       "CHAS       0.205066\n",
       "AGE       -0.364596\n",
       "RAD       -0.374693\n",
       "CRIM      -0.393715\n",
       "NOX       -0.422873\n",
       "TAX       -0.456657\n",
       "INDUS     -0.473516\n",
       "PTRATIO   -0.493534\n",
       "LSTAT     -0.740494\n",
       "Name: MEDV, dtype: float64"
      ]
     },
     "execution_count": 19,
     "metadata": {},
     "output_type": "execute_result"
    }
   ],
   "source": [
    "corr_matrix['MEDV'].sort_values(ascending=False)"
   ]
  },
  {
   "cell_type": "code",
   "execution_count": 20,
   "id": "786708ed",
   "metadata": {},
   "outputs": [
    {
     "data": {
      "text/plain": [
       "array([[<AxesSubplot:xlabel='MEDV', ylabel='MEDV'>,\n",
       "        <AxesSubplot:xlabel='RM', ylabel='MEDV'>,\n",
       "        <AxesSubplot:xlabel='ZN', ylabel='MEDV'>,\n",
       "        <AxesSubplot:xlabel='LSTAT', ylabel='MEDV'>],\n",
       "       [<AxesSubplot:xlabel='MEDV', ylabel='RM'>,\n",
       "        <AxesSubplot:xlabel='RM', ylabel='RM'>,\n",
       "        <AxesSubplot:xlabel='ZN', ylabel='RM'>,\n",
       "        <AxesSubplot:xlabel='LSTAT', ylabel='RM'>],\n",
       "       [<AxesSubplot:xlabel='MEDV', ylabel='ZN'>,\n",
       "        <AxesSubplot:xlabel='RM', ylabel='ZN'>,\n",
       "        <AxesSubplot:xlabel='ZN', ylabel='ZN'>,\n",
       "        <AxesSubplot:xlabel='LSTAT', ylabel='ZN'>],\n",
       "       [<AxesSubplot:xlabel='MEDV', ylabel='LSTAT'>,\n",
       "        <AxesSubplot:xlabel='RM', ylabel='LSTAT'>,\n",
       "        <AxesSubplot:xlabel='ZN', ylabel='LSTAT'>,\n",
       "        <AxesSubplot:xlabel='LSTAT', ylabel='LSTAT'>]], dtype=object)"
      ]
     },
     "execution_count": 20,
     "metadata": {},
     "output_type": "execute_result"
    },
    {
     "data": {
      "image/png": "[encoded data removed]",
      "text/plain": [
       "<Figure size 864x576 with 16 Axes>"
      ]
     },
     "metadata": {
      "needs_background": "light"
     },
     "output_type": "display_data"
    }
   ],
   "source": [
    "from pandas.plotting import scatter_matrix\n",
    "attributes= ['MEDV',\"RM\", \"ZN\", \"LSTAT\"]\n",
    "scatter_matrix(housing[attributes], figsize=(12,8))"
   ]
  },
  {
   "cell_type": "code",
   "execution_count": 21,
   "id": "62914bbf",
   "metadata": {},
   "outputs": [
    {
     "data": {
      "text/plain": [
       "<AxesSubplot:xlabel='RM', ylabel='MEDV'>"
      ]
     },
     "execution_count": 21,
     "metadata": {},
     "output_type": "execute_result"
    },
    {
     "data": {
      "image/png": "[encoded data removed]",
      "text/plain": [
       "<Figure size 432x288 with 1 Axes>"
      ]
     },
     "metadata": {
      "needs_background": "light"
     },
     "output_type": "display_data"
    }
   ],
   "source": [
    "housing.plot(kind='scatter', x=\"RM\", y='MEDV', alpha=0.8)\n",
    "#From this we can identify outliers and we can remove so our prediction is more accurate.We can observe that there is some\n",
    "# capping on the price 50. As for rooms =5, Price= 50 and rooms=9, price= 50. So, we can go back to team ask about it. \n",
    "# like this we can observe other atributes also. "
   ]
  },
  {
   "cell_type": "markdown",
   "id": "f32f4ef9",
   "metadata": {},
   "source": [
    "# Trying out new Attributes:\n",
    "#### We can also create new variables by combing 2 variables to predict our model\n"
   ]
  },
  {
   "cell_type": "code",
   "execution_count": 22,
   "id": "ab9b3a25",
   "metadata": {},
   "outputs": [],
   "source": [
    "housing[\"TAXRM\"]= housing['TAX']/housing['RM']"
   ]
  },
  {
   "cell_type": "code",
   "execution_count": 23,
   "id": "5089e452",
   "metadata": {},
   "outputs": [
    {
     "data": {
      "text/plain": [
       "254     51.571709\n",
       "348     42.200452\n",
       "476    102.714374\n",
       "321     45.012547\n",
       "326     45.468948\n",
       "          ...    \n",
       "155     65.507152\n",
       "423    109.126659\n",
       "98      35.294118\n",
       "455    102.068966\n",
       "216     46.875000\n",
       "Name: TAXRM, Length: 404, dtype: float64"
      ]
     },
     "execution_count": 23,
     "metadata": {},
     "output_type": "execute_result"
    }
   ],
   "source": [
    "housing['TAXRM']"
   ]
  },
  {
   "cell_type": "code",
   "execution_count": 24,
   "id": "b7b66b7e",
   "metadata": {},
   "outputs": [
    {
     "data": {
      "text/plain": [
       "MEDV       1.000000\n",
       "RM         0.680218\n",
       "B          0.361761\n",
       "ZN         0.339741\n",
       "DIS        0.240451\n",
       "CHAS       0.205066\n",
       "AGE       -0.364596\n",
       "RAD       -0.374693\n",
       "CRIM      -0.393715\n",
       "NOX       -0.422873\n",
       "TAX       -0.456657\n",
       "INDUS     -0.473516\n",
       "PTRATIO   -0.493534\n",
       "TAXRM     -0.526986\n",
       "LSTAT     -0.740494\n",
       "Name: MEDV, dtype: float64"
      ]
     },
     "execution_count": 24,
     "metadata": {},
     "output_type": "execute_result"
    }
   ],
   "source": [
    "corr_matrix=housing.corr()\n",
    "corr_matrix['MEDV'].sort_values(ascending=False)"
   ]
  },
  {
   "cell_type": "code",
   "execution_count": 25,
   "id": "d05d6650",
   "metadata": {},
   "outputs": [
    {
     "data": {
      "text/plain": [
       "<AxesSubplot:xlabel='TAXRM', ylabel='MEDV'>"
      ]
     },
     "execution_count": 25,
     "metadata": {},
     "output_type": "execute_result"
    },
    {
     "data": {
      "image/png": "[encoded data removed]",
      "text/plain": [
       "<Figure size 432x288 with 1 Axes>"
      ]
     },
     "metadata": {
      "needs_background": "light"
     },
     "output_type": "display_data"
    }
   ],
   "source": [
    "housing.plot(kind='scatter', x=\"TAXRM\", y='MEDV', alpha=0.8)\n",
    "#Negative Correlation"
   ]
  },
  {
   "cell_type": "code",
   "execution_count": 26,
   "id": "a47931c4",
   "metadata": {},
   "outputs": [],
   "source": [
    "housing= strat_train_set.drop(\"MEDV\", axis=1)\n",
    "housing_labels= strat_train_set[\"MEDV\"].copy()\n",
    "# We are separating Decision from Data."
   ]
  },
  {
   "cell_type": "markdown",
   "id": "1cd9e33e",
   "metadata": {},
   "source": [
    "\n",
    "# Missing Values\n",
    "#### We are deleting a few values in excel file"
   ]
  },
  {
   "cell_type": "markdown",
   "id": "4c3ef6ea",
   "metadata": {},
   "source": [
    "To take care of missing attributes, you have three options:\n",
    "1. Get rid of the missing data points\n",
    "2. Get rid of the whole attribute\n",
    "3. Set the value of missing attributes (0.mean or median)"
   ]
  },
  {
   "cell_type": "code",
   "execution_count": 27,
   "id": "2ea56a3c",
   "metadata": {},
   "outputs": [
    {
     "data": {
      "text/plain": [
       "(400, 13)"
      ]
     },
     "execution_count": 27,
     "metadata": {},
     "output_type": "execute_result"
    }
   ],
   "source": [
    "a=housing.dropna(subset=[\"RM\"]) #option1\n",
    "a.shape"
   ]
  },
  {
   "cell_type": "code",
   "execution_count": 28,
   "id": "ab953027",
   "metadata": {},
   "outputs": [
    {
     "data": {
      "text/plain": [
       "(404, 12)"
      ]
     },
     "execution_count": 28,
     "metadata": {},
     "output_type": "execute_result"
    }
   ],
   "source": [
    "b=housing.drop(\"RM\", axis=1)\n",
    "b.shape"
   ]
  },
  {
   "cell_type": "code",
   "execution_count": 29,
   "id": "de0a1b78",
   "metadata": {},
   "outputs": [
    {
     "data": {
      "text/plain": [
       "6.2175"
      ]
     },
     "execution_count": 29,
     "metadata": {},
     "output_type": "execute_result"
    }
   ],
   "source": [
    "median=housing[\"RM\"].median() #Option 3\n",
    "median"
   ]
  },
  {
   "cell_type": "code",
   "execution_count": 30,
   "id": "89820c83",
   "metadata": {},
   "outputs": [
    {
     "data": {
      "text/plain": [
       "254    6.108\n",
       "348    6.635\n",
       "476    6.484\n",
       "321    6.376\n",
       "326    6.312\n",
       "       ...  \n",
       "155    6.152\n",
       "423    6.103\n",
       "98     7.820\n",
       "455    6.525\n",
       "216    5.888\n",
       "Name: RM, Length: 404, dtype: float64"
      ]
     },
     "execution_count": 30,
     "metadata": {},
     "output_type": "execute_result"
    }
   ],
   "source": [
    "housing[\"RM\"].fillna(median)\n",
    "\n",
    "#We need to fill this median value in Test data as well as in Train Dataset"
   ]
  },
  {
   "cell_type": "code",
   "execution_count": 31,
   "id": "8a8dee9b",
   "metadata": {},
   "outputs": [
    {
     "data": {
      "text/plain": [
       "(404, 13)"
      ]
     },
     "execution_count": 31,
     "metadata": {},
     "output_type": "execute_result"
    }
   ],
   "source": [
    "housing.shape"
   ]
  },
  {
   "cell_type": "code",
   "execution_count": 32,
   "id": "0f35bcd4",
   "metadata": {},
   "outputs": [
    {
     "data": {
      "text/html": [
       "<div>\n",
       "<style scoped>\n",
       "    .dataframe tbody tr th:only-of-type {\n",
       "        vertical-align: middle;\n",
       "    }\n",
       "\n",
       "    .dataframe tbody tr th {\n",
       "        vertical-align: top;\n",
       "    }\n",
       "\n",
       "    .dataframe thead th {\n",
       "        text-align: right;\n",
       "    }\n",
       "</style>\n",
       "<table border=\"1\" class=\"dataframe\">\n",
       "  <thead>\n",
       "    <tr style=\"text-align: right;\">\n",
       "      <th></th>\n",
       "      <th>CRIM</th>\n",
       "      <th>ZN</th>\n",
       "      <th>INDUS</th>\n",
       "      <th>CHAS</th>\n",
       "      <th>NOX</th>\n",
       "      <th>RM</th>\n",
       "      <th>AGE</th>\n",
       "      <th>DIS</th>\n",
       "      <th>RAD</th>\n",
       "      <th>TAX</th>\n",
       "      <th>PTRATIO</th>\n",
       "      <th>B</th>\n",
       "      <th>LSTAT</th>\n",
       "    </tr>\n",
       "  </thead>\n",
       "  <tbody>\n",
       "    <tr>\n",
       "      <th>count</th>\n",
       "      <td>404.000000</td>\n",
       "      <td>404.000000</td>\n",
       "      <td>404.000000</td>\n",
       "      <td>404.000000</td>\n",
       "      <td>404.000000</td>\n",
       "      <td>400.000000</td>\n",
       "      <td>404.000000</td>\n",
       "      <td>404.000000</td>\n",
       "      <td>404.000000</td>\n",
       "      <td>404.000000</td>\n",
       "      <td>404.000000</td>\n",
       "      <td>404.000000</td>\n",
       "      <td>404.000000</td>\n",
       "    </tr>\n",
       "    <tr>\n",
       "      <th>mean</th>\n",
       "      <td>3.602814</td>\n",
       "      <td>10.836634</td>\n",
       "      <td>11.344950</td>\n",
       "      <td>0.069307</td>\n",
       "      <td>0.558064</td>\n",
       "      <td>6.283323</td>\n",
       "      <td>69.039851</td>\n",
       "      <td>3.746210</td>\n",
       "      <td>9.735149</td>\n",
       "      <td>412.341584</td>\n",
       "      <td>18.473267</td>\n",
       "      <td>353.392822</td>\n",
       "      <td>12.791609</td>\n",
       "    </tr>\n",
       "    <tr>\n",
       "      <th>std</th>\n",
       "      <td>8.099383</td>\n",
       "      <td>22.150636</td>\n",
       "      <td>6.877817</td>\n",
       "      <td>0.254290</td>\n",
       "      <td>0.116875</td>\n",
       "      <td>0.715657</td>\n",
       "      <td>28.258248</td>\n",
       "      <td>2.099057</td>\n",
       "      <td>8.731259</td>\n",
       "      <td>168.672623</td>\n",
       "      <td>2.129243</td>\n",
       "      <td>96.069235</td>\n",
       "      <td>7.235740</td>\n",
       "    </tr>\n",
       "    <tr>\n",
       "      <th>min</th>\n",
       "      <td>0.006320</td>\n",
       "      <td>0.000000</td>\n",
       "      <td>0.740000</td>\n",
       "      <td>0.000000</td>\n",
       "      <td>0.389000</td>\n",
       "      <td>3.561000</td>\n",
       "      <td>2.900000</td>\n",
       "      <td>1.129600</td>\n",
       "      <td>1.000000</td>\n",
       "      <td>187.000000</td>\n",
       "      <td>13.000000</td>\n",
       "      <td>0.320000</td>\n",
       "      <td>1.730000</td>\n",
       "    </tr>\n",
       "    <tr>\n",
       "      <th>25%</th>\n",
       "      <td>0.086962</td>\n",
       "      <td>0.000000</td>\n",
       "      <td>5.190000</td>\n",
       "      <td>0.000000</td>\n",
       "      <td>0.453000</td>\n",
       "      <td>5.878750</td>\n",
       "      <td>44.850000</td>\n",
       "      <td>2.035975</td>\n",
       "      <td>4.000000</td>\n",
       "      <td>284.000000</td>\n",
       "      <td>17.400000</td>\n",
       "      <td>374.617500</td>\n",
       "      <td>6.847500</td>\n",
       "    </tr>\n",
       "    <tr>\n",
       "      <th>50%</th>\n",
       "      <td>0.286735</td>\n",
       "      <td>0.000000</td>\n",
       "      <td>9.900000</td>\n",
       "      <td>0.000000</td>\n",
       "      <td>0.538000</td>\n",
       "      <td>6.217500</td>\n",
       "      <td>78.200000</td>\n",
       "      <td>3.122200</td>\n",
       "      <td>5.000000</td>\n",
       "      <td>337.000000</td>\n",
       "      <td>19.000000</td>\n",
       "      <td>390.955000</td>\n",
       "      <td>11.570000</td>\n",
       "    </tr>\n",
       "    <tr>\n",
       "      <th>75%</th>\n",
       "      <td>3.731923</td>\n",
       "      <td>12.500000</td>\n",
       "      <td>18.100000</td>\n",
       "      <td>0.000000</td>\n",
       "      <td>0.631000</td>\n",
       "      <td>6.632000</td>\n",
       "      <td>94.100000</td>\n",
       "      <td>5.100400</td>\n",
       "      <td>24.000000</td>\n",
       "      <td>666.000000</td>\n",
       "      <td>20.200000</td>\n",
       "      <td>395.630000</td>\n",
       "      <td>17.102500</td>\n",
       "    </tr>\n",
       "    <tr>\n",
       "      <th>max</th>\n",
       "      <td>73.534100</td>\n",
       "      <td>100.000000</td>\n",
       "      <td>27.740000</td>\n",
       "      <td>1.000000</td>\n",
       "      <td>0.871000</td>\n",
       "      <td>8.780000</td>\n",
       "      <td>100.000000</td>\n",
       "      <td>12.126500</td>\n",
       "      <td>24.000000</td>\n",
       "      <td>711.000000</td>\n",
       "      <td>22.000000</td>\n",
       "      <td>396.900000</td>\n",
       "      <td>36.980000</td>\n",
       "    </tr>\n",
       "  </tbody>\n",
       "</table>\n",
       "</div>"
      ],
      "text/plain": [
       "             CRIM          ZN       INDUS        CHAS         NOX          RM  \\\n",
       "count  404.000000  404.000000  404.000000  404.000000  404.000000  400.000000   \n",
       "mean     3.602814   10.836634   11.344950    0.069307    0.558064    6.283323   \n",
       "std      8.099383   22.150636    6.877817    0.254290    0.116875    0.715657   \n",
       "min      0.006320    0.000000    0.740000    0.000000    0.389000    3.561000   \n",
       "25%      0.086962    0.000000    5.190000    0.000000    0.453000    5.878750   \n",
       "50%      0.286735    0.000000    9.900000    0.000000    0.538000    6.217500   \n",
       "75%      3.731923   12.500000   18.100000    0.000000    0.631000    6.632000   \n",
       "max     73.534100  100.000000   27.740000    1.000000    0.871000    8.780000   \n",
       "\n",
       "              AGE         DIS         RAD         TAX     PTRATIO           B  \\\n",
       "count  404.000000  404.000000  404.000000  404.000000  404.000000  404.000000   \n",
       "mean    69.039851    3.746210    9.735149  412.341584   18.473267  353.392822   \n",
       "std     28.258248    2.099057    8.731259  168.672623    2.129243   96.069235   \n",
       "min      2.900000    1.129600    1.000000  187.000000   13.000000    0.320000   \n",
       "25%     44.850000    2.035975    4.000000  284.000000   17.400000  374.617500   \n",
       "50%     78.200000    3.122200    5.000000  337.000000   19.000000  390.955000   \n",
       "75%     94.100000    5.100400   24.000000  666.000000   20.200000  395.630000   \n",
       "max    100.000000   12.126500   24.000000  711.000000   22.000000  396.900000   \n",
       "\n",
       "            LSTAT  \n",
       "count  404.000000  \n",
       "mean    12.791609  \n",
       "std      7.235740  \n",
       "min      1.730000  \n",
       "25%      6.847500  \n",
       "50%     11.570000  \n",
       "75%     17.102500  \n",
       "max     36.980000  "
      ]
     },
     "execution_count": 32,
     "metadata": {},
     "output_type": "execute_result"
    }
   ],
   "source": [
    "housing.describe()\n",
    "#before we started our imputing (check number of RM values count)"
   ]
  },
  {
   "cell_type": "markdown",
   "id": "c0979e55",
   "metadata": {},
   "source": [
    "## Treatment of Missing Values can be done with SKLEARN Imputer Class\n"
   ]
  },
  {
   "cell_type": "code",
   "execution_count": 33,
   "id": "5c71f599",
   "metadata": {},
   "outputs": [
    {
     "data": {
      "text/plain": [
       "SimpleImputer(strategy='median')"
      ]
     },
     "execution_count": 33,
     "metadata": {},
     "output_type": "execute_result"
    }
   ],
   "source": [
    "from sklearn.impute import SimpleImputer\n",
    "imputer=SimpleImputer(strategy='median')\n",
    "imputer.fit(housing)"
   ]
  },
  {
   "cell_type": "code",
   "execution_count": 34,
   "id": "0c1a9fd2",
   "metadata": {},
   "outputs": [
    {
     "data": {
      "text/plain": [
       "array([2.86735e-01, 0.00000e+00, 9.90000e+00, 0.00000e+00, 5.38000e-01,\n",
       "       6.21750e+00, 7.82000e+01, 3.12220e+00, 5.00000e+00, 3.37000e+02,\n",
       "       1.90000e+01, 3.90955e+02, 1.15700e+01])"
      ]
     },
     "execution_count": 34,
     "metadata": {},
     "output_type": "execute_result"
    }
   ],
   "source": [
    "imputer.statistics_"
   ]
  },
  {
   "cell_type": "code",
   "execution_count": 35,
   "id": "ad936190",
   "metadata": {},
   "outputs": [],
   "source": [
    "#We need to fill median value of respective column in all the missing cells \n",
    "X= imputer.transform(housing)"
   ]
  },
  {
   "cell_type": "code",
   "execution_count": 36,
   "id": "b6c04218",
   "metadata": {},
   "outputs": [],
   "source": [
    "housing_tr= pd.DataFrame(X, columns=housing.columns)"
   ]
  },
  {
   "cell_type": "code",
   "execution_count": 37,
   "id": "3d6f243c",
   "metadata": {},
   "outputs": [
    {
     "data": {
      "text/html": [
       "<div>\n",
       "<style scoped>\n",
       "    .dataframe tbody tr th:only-of-type {\n",
       "        vertical-align: middle;\n",
       "    }\n",
       "\n",
       "    .dataframe tbody tr th {\n",
       "        vertical-align: top;\n",
       "    }\n",
       "\n",
       "    .dataframe thead th {\n",
       "        text-align: right;\n",
       "    }\n",
       "</style>\n",
       "<table border=\"1\" class=\"dataframe\">\n",
       "  <thead>\n",
       "    <tr style=\"text-align: right;\">\n",
       "      <th></th>\n",
       "      <th>CRIM</th>\n",
       "      <th>ZN</th>\n",
       "      <th>INDUS</th>\n",
       "      <th>CHAS</th>\n",
       "      <th>NOX</th>\n",
       "      <th>RM</th>\n",
       "      <th>AGE</th>\n",
       "      <th>DIS</th>\n",
       "      <th>RAD</th>\n",
       "      <th>TAX</th>\n",
       "      <th>PTRATIO</th>\n",
       "      <th>B</th>\n",
       "      <th>LSTAT</th>\n",
       "    </tr>\n",
       "  </thead>\n",
       "  <tbody>\n",
       "    <tr>\n",
       "      <th>count</th>\n",
       "      <td>404.000000</td>\n",
       "      <td>404.000000</td>\n",
       "      <td>404.000000</td>\n",
       "      <td>404.000000</td>\n",
       "      <td>404.000000</td>\n",
       "      <td>404.000000</td>\n",
       "      <td>404.000000</td>\n",
       "      <td>404.000000</td>\n",
       "      <td>404.000000</td>\n",
       "      <td>404.000000</td>\n",
       "      <td>404.000000</td>\n",
       "      <td>404.000000</td>\n",
       "      <td>404.000000</td>\n",
       "    </tr>\n",
       "    <tr>\n",
       "      <th>mean</th>\n",
       "      <td>3.602814</td>\n",
       "      <td>10.836634</td>\n",
       "      <td>11.344950</td>\n",
       "      <td>0.069307</td>\n",
       "      <td>0.558064</td>\n",
       "      <td>6.282671</td>\n",
       "      <td>69.039851</td>\n",
       "      <td>3.746210</td>\n",
       "      <td>9.735149</td>\n",
       "      <td>412.341584</td>\n",
       "      <td>18.473267</td>\n",
       "      <td>353.392822</td>\n",
       "      <td>12.791609</td>\n",
       "    </tr>\n",
       "    <tr>\n",
       "      <th>std</th>\n",
       "      <td>8.099383</td>\n",
       "      <td>22.150636</td>\n",
       "      <td>6.877817</td>\n",
       "      <td>0.254290</td>\n",
       "      <td>0.116875</td>\n",
       "      <td>0.712127</td>\n",
       "      <td>28.258248</td>\n",
       "      <td>2.099057</td>\n",
       "      <td>8.731259</td>\n",
       "      <td>168.672623</td>\n",
       "      <td>2.129243</td>\n",
       "      <td>96.069235</td>\n",
       "      <td>7.235740</td>\n",
       "    </tr>\n",
       "    <tr>\n",
       "      <th>min</th>\n",
       "      <td>0.006320</td>\n",
       "      <td>0.000000</td>\n",
       "      <td>0.740000</td>\n",
       "      <td>0.000000</td>\n",
       "      <td>0.389000</td>\n",
       "      <td>3.561000</td>\n",
       "      <td>2.900000</td>\n",
       "      <td>1.129600</td>\n",
       "      <td>1.000000</td>\n",
       "      <td>187.000000</td>\n",
       "      <td>13.000000</td>\n",
       "      <td>0.320000</td>\n",
       "      <td>1.730000</td>\n",
       "    </tr>\n",
       "    <tr>\n",
       "      <th>25%</th>\n",
       "      <td>0.086962</td>\n",
       "      <td>0.000000</td>\n",
       "      <td>5.190000</td>\n",
       "      <td>0.000000</td>\n",
       "      <td>0.453000</td>\n",
       "      <td>5.879750</td>\n",
       "      <td>44.850000</td>\n",
       "      <td>2.035975</td>\n",
       "      <td>4.000000</td>\n",
       "      <td>284.000000</td>\n",
       "      <td>17.400000</td>\n",
       "      <td>374.617500</td>\n",
       "      <td>6.847500</td>\n",
       "    </tr>\n",
       "    <tr>\n",
       "      <th>50%</th>\n",
       "      <td>0.286735</td>\n",
       "      <td>0.000000</td>\n",
       "      <td>9.900000</td>\n",
       "      <td>0.000000</td>\n",
       "      <td>0.538000</td>\n",
       "      <td>6.217500</td>\n",
       "      <td>78.200000</td>\n",
       "      <td>3.122200</td>\n",
       "      <td>5.000000</td>\n",
       "      <td>337.000000</td>\n",
       "      <td>19.000000</td>\n",
       "      <td>390.955000</td>\n",
       "      <td>11.570000</td>\n",
       "    </tr>\n",
       "    <tr>\n",
       "      <th>75%</th>\n",
       "      <td>3.731923</td>\n",
       "      <td>12.500000</td>\n",
       "      <td>18.100000</td>\n",
       "      <td>0.000000</td>\n",
       "      <td>0.631000</td>\n",
       "      <td>6.630250</td>\n",
       "      <td>94.100000</td>\n",
       "      <td>5.100400</td>\n",
       "      <td>24.000000</td>\n",
       "      <td>666.000000</td>\n",
       "      <td>20.200000</td>\n",
       "      <td>395.630000</td>\n",
       "      <td>17.102500</td>\n",
       "    </tr>\n",
       "    <tr>\n",
       "      <th>max</th>\n",
       "      <td>73.534100</td>\n",
       "      <td>100.000000</td>\n",
       "      <td>27.740000</td>\n",
       "      <td>1.000000</td>\n",
       "      <td>0.871000</td>\n",
       "      <td>8.780000</td>\n",
       "      <td>100.000000</td>\n",
       "      <td>12.126500</td>\n",
       "      <td>24.000000</td>\n",
       "      <td>711.000000</td>\n",
       "      <td>22.000000</td>\n",
       "      <td>396.900000</td>\n",
       "      <td>36.980000</td>\n",
       "    </tr>\n",
       "  </tbody>\n",
       "</table>\n",
       "</div>"
      ],
      "text/plain": [
       "             CRIM          ZN       INDUS        CHAS         NOX          RM  \\\n",
       "count  404.000000  404.000000  404.000000  404.000000  404.000000  404.000000   \n",
       "mean     3.602814   10.836634   11.344950    0.069307    0.558064    6.282671   \n",
       "std      8.099383   22.150636    6.877817    0.254290    0.116875    0.712127   \n",
       "min      0.006320    0.000000    0.740000    0.000000    0.389000    3.561000   \n",
       "25%      0.086962    0.000000    5.190000    0.000000    0.453000    5.879750   \n",
       "50%      0.286735    0.000000    9.900000    0.000000    0.538000    6.217500   \n",
       "75%      3.731923   12.500000   18.100000    0.000000    0.631000    6.630250   \n",
       "max     73.534100  100.000000   27.740000    1.000000    0.871000    8.780000   \n",
       "\n",
       "              AGE         DIS         RAD         TAX     PTRATIO           B  \\\n",
       "count  404.000000  404.000000  404.000000  404.000000  404.000000  404.000000   \n",
       "mean    69.039851    3.746210    9.735149  412.341584   18.473267  353.392822   \n",
       "std     28.258248    2.099057    8.731259  168.672623    2.129243   96.069235   \n",
       "min      2.900000    1.129600    1.000000  187.000000   13.000000    0.320000   \n",
       "25%     44.850000    2.035975    4.000000  284.000000   17.400000  374.617500   \n",
       "50%     78.200000    3.122200    5.000000  337.000000   19.000000  390.955000   \n",
       "75%     94.100000    5.100400   24.000000  666.000000   20.200000  395.630000   \n",
       "max    100.000000   12.126500   24.000000  711.000000   22.000000  396.900000   \n",
       "\n",
       "            LSTAT  \n",
       "count  404.000000  \n",
       "mean    12.791609  \n",
       "std      7.235740  \n",
       "min      1.730000  \n",
       "25%      6.847500  \n",
       "50%     11.570000  \n",
       "75%     17.102500  \n",
       "max     36.980000  "
      ]
     },
     "execution_count": 37,
     "metadata": {},
     "output_type": "execute_result"
    }
   ],
   "source": [
    "housing_tr.describe()"
   ]
  },
  {
   "cell_type": "markdown",
   "id": "4bfa11a3",
   "metadata": {},
   "source": [
    "# SCIKIT LEARN DESIGN"
   ]
  },
  {
   "cell_type": "markdown",
   "id": "8a9dd11a",
   "metadata": {},
   "source": [
    "Primarily, three types of objects\n",
    "1) Estimators: It estimates some parameters based on a dataset. Eg: imputer. It has a fit and transform method\n",
    "        Fit: Fits the dataset(computes internal parameters)\n",
    "        \n",
    "2) Transformers: Transform method takes input and returns output based on the learnings from fit(). It also has \n",
    "    a convenience fuction called fit_transform() which fits and then transforms.\n",
    "    \n",
    "3) Predictors: LinearRegression model is an example of a predictor. fit() and predict() are two common functions. It also gives score() function which will evaluate the predictions. "
   ]
  },
  {
   "cell_type": "markdown",
   "id": "d57ef1a7",
   "metadata": {},
   "source": [
    "# Feautre Scaling"
   ]
  },
  {
   "cell_type": "markdown",
   "id": "ad541773",
   "metadata": {},
   "source": [
    "Primarily, two types of feautre scaling methods:\n",
    "    \n",
    "<b>1. Min-Max Scaling(Normalization): value-min/max-min</b>\n",
    "\n",
    "It will help to scale down our data between 0 to 1\n",
    "Sklearn provides a class called MinMaxScaler for this\n",
    "\n",
    "    \n",
    "<b>2. Standardization: (value-mean)/standard deviation</b>\n",
    "\n",
    "Sklearn provides a class StandardScaler for this.\n",
    "By this our data got variance = 1 and mean = 0"
   ]
  },
  {
   "cell_type": "markdown",
   "id": "a80892bf",
   "metadata": {},
   "source": [
    "## Creating Pipeline"
   ]
  },
  {
   "cell_type": "code",
   "execution_count": 38,
   "id": "afec842c",
   "metadata": {},
   "outputs": [],
   "source": [
    "from sklearn.pipeline import Pipeline\n",
    "\n",
    "from sklearn.preprocessing import StandardScaler\n",
    "my_pipeline= Pipeline([('imputer', SimpleImputer(strategy=\"median\")), ('std_scaler', StandardScaler())])"
   ]
  },
  {
   "cell_type": "code",
   "execution_count": 39,
   "id": "1de39c48",
   "metadata": {},
   "outputs": [],
   "source": [
    "housing_num_tr= my_pipeline.fit_transform(housing)\n",
    "# We are applying our Pipeline on housing (initial data)."
   ]
  },
  {
   "cell_type": "code",
   "execution_count": 40,
   "id": "d29760fc",
   "metadata": {},
   "outputs": [
    {
     "data": {
      "text/plain": [
       "(404, 13)"
      ]
     },
     "execution_count": 40,
     "metadata": {},
     "output_type": "execute_result"
    }
   ],
   "source": [
    "housing_num_tr.shape\n",
    "# It is a numpy Array (Remeber this is important as we use predictor later. It will use numpy array. \n",
    "# So, we don't make any Pandas df"
   ]
  },
  {
   "cell_type": "markdown",
   "id": "2009fb46",
   "metadata": {},
   "source": [
    "Working of Pipeline: It takes data and perform fit_tranform of respective process like \"imputer.fit_transform()\" then it will\n",
    "give the transformed data to next process and so on. In last process, it only applies fit function and nottransform. So, if we\n",
    "want to transform the data and get our np.array we apply transform on pipeline."
   ]
  },
  {
   "cell_type": "markdown",
   "id": "d1c04001",
   "metadata": {},
   "source": [
    "## Selecting a desired model for Dragon Real Estates"
   ]
  },
  {
   "cell_type": "markdown",
   "id": "4a7cd481",
   "metadata": {},
   "source": [
    "### We first train and evaluate and then select best model"
   ]
  },
  {
   "cell_type": "markdown",
   "id": "d5b1f99c",
   "metadata": {},
   "source": [
    "### Linear Regression"
   ]
  },
  {
   "cell_type": "code",
   "execution_count": 41,
   "id": "1a1c0c7f",
   "metadata": {},
   "outputs": [
    {
     "data": {
      "text/plain": [
       "LinearRegression()"
      ]
     },
     "execution_count": 41,
     "metadata": {},
     "output_type": "execute_result"
    }
   ],
   "source": [
    "from sklearn.linear_model import LinearRegression\n",
    "Linear_model=LinearRegression()\n",
    "Linear_model.fit(housing_num_tr, housing_labels)"
   ]
  },
  {
   "cell_type": "markdown",
   "id": "2a31ba6a",
   "metadata": {},
   "source": [
    "#### Evaluating the Linear Regression Model"
   ]
  },
  {
   "cell_type": "code",
   "execution_count": 42,
   "id": "9514a1d8",
   "metadata": {},
   "outputs": [],
   "source": [
    "from sklearn.metrics import mean_squared_error\n",
    "housing_predictions =Linear_model.predict(housing_num_tr)\n",
    "lin_mse= mean_squared_error(housing_labels, housing_predictions)\n",
    "lin_mse=np.sqrt(lin_mse)"
   ]
  },
  {
   "cell_type": "code",
   "execution_count": 43,
   "id": "c26a1363",
   "metadata": {},
   "outputs": [
    {
     "data": {
      "text/plain": [
       "4.828504557343458"
      ]
     },
     "execution_count": 43,
     "metadata": {},
     "output_type": "execute_result"
    }
   ],
   "source": [
    "lin_mse"
   ]
  },
  {
   "cell_type": "markdown",
   "id": "0a6a02f7",
   "metadata": {},
   "source": [
    "### DecisionTreeRegressor"
   ]
  },
  {
   "cell_type": "code",
   "execution_count": 44,
   "id": "6633f662",
   "metadata": {},
   "outputs": [
    {
     "data": {
      "text/plain": [
       "DecisionTreeRegressor()"
      ]
     },
     "execution_count": 44,
     "metadata": {},
     "output_type": "execute_result"
    }
   ],
   "source": [
    "from sklearn.tree import DecisionTreeRegressor \n",
    "Decision_model=DecisionTreeRegressor()\n",
    "Decision_model.fit(housing_num_tr, housing_labels)"
   ]
  },
  {
   "cell_type": "markdown",
   "id": "885b6329",
   "metadata": {},
   "source": [
    "#### Evaluating the Decision Tree Model"
   ]
  },
  {
   "cell_type": "code",
   "execution_count": 66,
   "id": "7e09e83b",
   "metadata": {},
   "outputs": [],
   "source": [
    "from sklearn.metrics import mean_squared_error\n",
    "housing_predictions =Decision_model.predict(housing_num_tr)\n",
    "DT_mse= mean_squared_error(housing_labels, housing_predictions)\n",
    "DT_mse=np.sqrt(DT_mse)"
   ]
  },
  {
   "cell_type": "code",
   "execution_count": 67,
   "id": "6f20538b",
   "metadata": {},
   "outputs": [
    {
     "data": {
      "text/plain": [
       "0.0"
      ]
     },
     "execution_count": 67,
     "metadata": {},
     "output_type": "execute_result"
    }
   ],
   "source": [
    "DT_mse"
   ]
  },
  {
   "cell_type": "markdown",
   "id": "7283675d",
   "metadata": {},
   "source": [
    "### Random Forest Regressor"
   ]
  },
  {
   "cell_type": "code",
   "execution_count": 70,
   "id": "3ae3cc0d",
   "metadata": {},
   "outputs": [
    {
     "data": {
      "text/plain": [
       "RandomForestRegressor()"
      ]
     },
     "execution_count": 70,
     "metadata": {},
     "output_type": "execute_result"
    }
   ],
   "source": [
    "from sklearn.ensemble import RandomForestRegressor \n",
    "RF_model= RandomForestRegressor()\n",
    "RF_model.fit(housing_num_tr,housing_labels)"
   ]
  },
  {
   "cell_type": "code",
   "execution_count": 71,
   "id": "6472d948",
   "metadata": {},
   "outputs": [
    {
     "data": {
      "text/plain": [
       "1.1533256218861212"
      ]
     },
     "execution_count": 71,
     "metadata": {},
     "output_type": "execute_result"
    }
   ],
   "source": [
    "from sklearn.metrics import mean_squared_error\n",
    "housing_predictions =RF_model.predict(housing_num_tr)\n",
    "RF_mse= mean_squared_error(housing_labels, housing_predictions)\n",
    "RF_mse=np.sqrt(RF_mse)\n",
    "RF_mse"
   ]
  },
  {
   "cell_type": "markdown",
   "id": "5f2aca66",
   "metadata": {},
   "source": [
    "## Using Better Evaluation Technique- Cross Validation"
   ]
  },
  {
   "cell_type": "code",
   "execution_count": 49,
   "id": "02552bd2",
   "metadata": {},
   "outputs": [],
   "source": [
    "def print_scores(scores):\n",
    "    print(\"Scores:\", scores)\n",
    "    print(\"Mean:\", scores.mean())\n",
    "    print(\"Standard deviation: \", scores.std())"
   ]
  },
  {
   "cell_type": "code",
   "execution_count": 51,
   "id": "96beece7",
   "metadata": {},
   "outputs": [
    {
     "data": {
      "text/plain": [
       "array([4.22259372, 4.25595254, 5.09754469, 3.83093292, 5.34427133,\n",
       "       4.37108704, 7.47004509, 5.47746011, 4.15553309, 6.07243723])"
      ]
     },
     "execution_count": 51,
     "metadata": {},
     "output_type": "execute_result"
    }
   ],
   "source": [
    "from sklearn.model_selection import cross_val_score\n",
    "scores= cross_val_score(Linear_model,housing_num_tr,housing_labels, scoring=\"neg_mean_squared_error\", cv=10)\n",
    "rmse_Linear_score= np.sqrt(-scores)\n",
    "rmse_Linear_score"
   ]
  },
  {
   "cell_type": "code",
   "execution_count": 52,
   "id": "165da320",
   "metadata": {},
   "outputs": [
    {
     "name": "stdout",
     "output_type": "stream",
     "text": [
      "Scores: [4.22259372 4.25595254 5.09754469 3.83093292 5.34427133 4.37108704\n",
      " 7.47004509 5.47746011 4.15553309 6.07243723]\n",
      "Mean: 5.029785776734925\n",
      "Standard deviation:  1.0597980535617884\n"
     ]
    }
   ],
   "source": [
    "print_scores(rmse_Linear_score)"
   ]
  },
  {
   "cell_type": "code",
   "execution_count": 53,
   "id": "35c5fb98",
   "metadata": {},
   "outputs": [
    {
     "data": {
      "text/plain": [
       "array([3.8839884 , 4.04604595, 5.36408563, 3.54246022, 4.12180179,\n",
       "       3.14157604, 6.86651294, 3.98387374, 3.35055965, 3.43303801])"
      ]
     },
     "execution_count": 53,
     "metadata": {},
     "output_type": "execute_result"
    }
   ],
   "source": [
    "from sklearn.model_selection import cross_val_score\n",
    "scores= cross_val_score(Decision_model,housing_num_tr,housing_labels, scoring=\"neg_mean_squared_error\", cv=10)\n",
    "rmse_DT_score= np.sqrt(-scores)\n",
    "rmse_DT_score"
   ]
  },
  {
   "cell_type": "code",
   "execution_count": 54,
   "id": "ad2b6957",
   "metadata": {},
   "outputs": [
    {
     "name": "stdout",
     "output_type": "stream",
     "text": [
      "Scores: [3.8839884  4.04604595 5.36408563 3.54246022 4.12180179 3.14157604\n",
      " 6.86651294 3.98387374 3.35055965 3.43303801]\n",
      "Mean: 4.173394237042653\n",
      "Standard deviation:  1.0722452193933307\n"
     ]
    }
   ],
   "source": [
    "print_scores(rmse_DT_score)"
   ]
  },
  {
   "cell_type": "code",
   "execution_count": 72,
   "id": "15084e0d",
   "metadata": {},
   "outputs": [
    {
     "data": {
      "text/plain": [
       "array([2.76436866, 2.87093639, 4.48594733, 2.64864734, 3.48840759,\n",
       "       2.45950791, 4.82336365, 3.33550262, 3.18008185, 3.25964151])"
      ]
     },
     "execution_count": 72,
     "metadata": {},
     "output_type": "execute_result"
    }
   ],
   "source": [
    "from sklearn.model_selection import cross_val_score\n",
    "scores= cross_val_score(RF_model,housing_num_tr,housing_labels, scoring=\"neg_mean_squared_error\", cv=10)\n",
    "rmse_RF_score= np.sqrt(-scores)\n",
    "rmse_RF_score"
   ]
  },
  {
   "cell_type": "code",
   "execution_count": 73,
   "id": "f923568c",
   "metadata": {},
   "outputs": [
    {
     "name": "stdout",
     "output_type": "stream",
     "text": [
      "Scores: [2.76436866 2.87093639 4.48594733 2.64864734 3.48840759 2.45950791\n",
      " 4.82336365 3.33550262 3.18008185 3.25964151]\n",
      "Mean: 3.3316404846454075\n",
      "Standard deviation:  0.7329084158827158\n"
     ]
    }
   ],
   "source": [
    "print_scores(rmse_RF_score)"
   ]
  },
  {
   "cell_type": "markdown",
   "id": "e181d5b8",
   "metadata": {},
   "source": [
    "## Saving the Model"
   ]
  },
  {
   "cell_type": "code",
   "execution_count": 75,
   "id": "aff03b66",
   "metadata": {},
   "outputs": [
    {
     "data": {
      "text/plain": [
       "['Dragon.joblib']"
      ]
     },
     "execution_count": 75,
     "metadata": {},
     "output_type": "execute_result"
    }
   ],
   "source": [
    "from joblib import dump, load\n",
    "dump(RF_model, 'Dragon.joblib')"
   ]
  },
  {
   "cell_type": "markdown",
   "id": "3d53f4d2",
   "metadata": {},
   "source": [
    "# Testing the model on test data"
   ]
  },
  {
   "cell_type": "code",
   "execution_count": 76,
   "id": "0c1edf45",
   "metadata": {},
   "outputs": [],
   "source": [
    "X_test= strat_test_set.drop(\"MEDV\", axis=1)\n",
    "Y_test= strat_test_set[\"MEDV\"].copy()\n",
    "X_test_prepared= my_pipeline.transform(X_test)\n",
    "final_predictions=RF_model.predict(X_test_prepared)\n",
    "final_mse= mean_squared_error(Y_test,final_predictions)\n",
    "final_rmse=np.sqrt(final_mse)"
   ]
  },
  {
   "cell_type": "code",
   "execution_count": 77,
   "id": "84564519",
   "metadata": {},
   "outputs": [
    {
     "data": {
      "text/plain": [
       "2.9351203402526274"
      ]
     },
     "execution_count": 77,
     "metadata": {},
     "output_type": "execute_result"
    }
   ],
   "source": [
    "final_rmse"
   ]
  },
  {
   "cell_type": "code",
   "execution_count": 78,
   "id": "ca864851",
   "metadata": {},
   "outputs": [],
   "source": [
    "# Our test data RMSE is less. Our model is very good."
   ]
  },
  {
   "cell_type": "code",
   "execution_count": 79,
   "id": "4e460d90",
   "metadata": {},
   "outputs": [
    {
     "name": "stdout",
     "output_type": "stream",
     "text": [
      "[24.676 11.443 25.057 21.98  18.847 15.093 19.981 14.189 31.558 41.791\n",
      " 19.533 11.616 23.733 29.926 19.491 10.93  31.462 14.398 23.835 18.647\n",
      " 19.744 18.175 17.024 21.871 17.844 31.136 16.267 33.258  8.874 33.626\n",
      " 23.063 21.344 22.645 10.917 20.895 10.807 43.416 24.565 23.765 41.75\n",
      " 24.058 30.262 20.894 20.712 18.96  33.795 43.37  20.299 20.241 22.129\n",
      " 20.918 14.502 21.149 14.928 24.987 33.515 41.423 28.89  19.59  20.986\n",
      " 46.987  9.82  19.101 25.502 14.508 32.939 19.664 18.221 18.999 33.828\n",
      " 25.057 22.568 21.248 22.593 34.937 12.931 15.746 19.99  20.965 21.381\n",
      " 22.28  20.75  13.727 22.704 20.697 21.412 14.656 21.59  21.266 23.095\n",
      " 18.651 26.677  7.48  26.85  19.534 29.875 19.612 30.546 14.392 26.358\n",
      " 21.691 20.234] [16.5, 10.2, 30.1, 23.0, 14.4, 15.6, 19.4, 14.1, 30.3, 35.2, 23.1, 13.8, 25.0, 27.9, 19.5, 12.3, 32.2, 13.5, 23.8, 21.7, 19.2, 19.5, 10.4, 23.2, 18.6, 28.5, 15.2, 32.0, 7.2, 34.6, 20.1, 20.6, 23.6, 13.1, 23.8, 12.7, 43.1, 24.7, 22.2, 44.0, 28.1, 31.0, 21.7, 23.4, 19.5, 33.1, 41.7, 18.7, 19.9, 20.6, 21.2, 13.6, 20.3, 17.8, 27.1, 31.5, 50.0, 29.1, 18.9, 20.4, 50.0, 7.2, 17.2, 36.2, 14.6, 33.2, 23.8, 19.9, 21.5, 37.3, 27.0, 22.0, 24.3, 19.8, 33.3, 7.0, 19.4, 20.9, 21.1, 20.4, 22.2, 11.9, 11.7, 21.6, 19.7, 23.0, 16.7, 21.7, 20.6, 23.3, 19.6, 28.0, 5.0, 24.4, 20.8, 24.8, 21.8, 23.6, 19.0, 25.0, 20.3, 21.5]\n"
     ]
    }
   ],
   "source": [
    "print(final_predictions, list(Y_test))"
   ]
  },
  {
   "cell_type": "markdown",
   "id": "fb82c863",
   "metadata": {},
   "source": [
    "# Using the Model\n"
   ]
  },
  {
   "cell_type": "code",
   "execution_count": 86,
   "id": "25d584f6",
   "metadata": {},
   "outputs": [],
   "source": [
    "from joblib import dump, load\n",
    "import numpy as np\n",
    "model=load(\"Dragon.joblib\")\n"
   ]
  },
  {
   "cell_type": "code",
   "execution_count": 87,
   "id": "a305b6cd",
   "metadata": {},
   "outputs": [
    {
     "data": {
      "text/plain": [
       "array([22.551])"
      ]
     },
     "execution_count": 87,
     "metadata": {},
     "output_type": "execute_result"
    }
   ],
   "source": [
    "features=np.array([[-5.43942006,4.12628155,-1.6165014,-0.67288841,-1.42262747,-.23979304,-1.3238722,2.6111401,\n",
    "                    -1.0016859,-0.577892,-0.97491834,0.41164221,-0.86091034]])\n",
    "model.predict(features)"
   ]
  },
  {
   "cell_type": "code",
   "execution_count": null,
   "id": "eca232ee",
   "metadata": {},
   "outputs": [],
   "source": []
  }
 ],
 "metadata": {
  "kernelspec": {
   "display_name": "Python 3",
   "language": "python",
   "name": "python3"
  },
  "language_info": {
   "codemirror_mode": {
    "name": "ipython",
    "version": 3
   },
   "file_extension": ".py",
   "mimetype": "text/x-python",
   "name": "python",
   "nbconvert_exporter": "python",
   "pygments_lexer": "ipython3",
   "version": "3.8.8"
  }
 },
 "nbformat": 4,
 "nbformat_minor": 5
}
